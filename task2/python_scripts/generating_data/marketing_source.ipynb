{
 "cells": [
  {
   "metadata": {},
   "cell_type": "markdown",
   "source": [
    "| Dimension       | Value         | Constraints                 |\n",
    "|-----------------|---------------|-----------------------------|\n",
    "| Date            | RRRR-MM_DD    | after 2010-05-01            |\n",
    "| Campaing_Name   | String        |\n",
    "| Ad-group        | String        |\n",
    "| Trip_id         | Integer       |\n",
    "| Keyword         | String        |\n",
    "| Impressions     | Integer       |\n",
    "| Clicks          | Integer       |\n",
    "| CTR             | %             | 0%-100%, clicks/impressions |\n",
    "| Cost            | Decimal (PLN) | 0<                          |\n",
    "| Conversion Rate | %             | 0$-100%                     |\n"
   ],
   "id": "612bec4a4a8de3a3"
  },
  {
   "metadata": {},
   "cell_type": "markdown",
   "source": [
    "TODO:\n",
    "- set T1 and T2"
   ],
   "id": "64fd6944c9514b3d"
  }
 ],
 "metadata": {
  "kernelspec": {
   "display_name": "Python 3",
   "language": "python",
   "name": "python3"
  },
  "language_info": {
   "codemirror_mode": {
    "name": "ipython",
    "version": 2
   },
   "file_extension": ".py",
   "mimetype": "text/x-python",
   "name": "python",
   "nbconvert_exporter": "python",
   "pygments_lexer": "ipython2",
   "version": "2.7.6"
  }
 },
 "nbformat": 4,
 "nbformat_minor": 5
}
